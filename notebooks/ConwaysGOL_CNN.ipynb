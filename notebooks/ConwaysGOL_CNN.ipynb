{
 "cells": [
  {
   "cell_type": "markdown",
   "metadata": {},
   "source": [
    "# Conways Game of Life CNN: From Scratch\n",
    "\n",
    "For our Computer Science Unit 1 build week at [Lambda](https://lambdaschool.com/), all of us had the option to create our own version of [Conways Game of Life](https://en.wikipedia.org/wiki/Conway%27s_Game_of_Life).\n",
    "I decided to do that and created my own using [pygame](https://www.pygame.org/news). \n",
    "\n",
    "            You can find relevant links to check it out for yourself here:\n",
    "\n",
    "- [Conways Game of Life: On repl](https://repl.it/@Yonipineda/Game-of-Life#readme.md)\n",
    "- [Conways Game of life: On PyPi](https://pypi.org/project/Conways-Game-of-Life/)\n",
    "\n",
    "But, as a Data Science student, we also had to the option to create, from scratch, any of the acceptable Data Science specific algorithms, which can be found in this [repo readme](https://github.com/LambdaSchool/CS-Data-Science-Build-Week-1). \n",
    "\n",
    "As I worked on the game itself, I thought of an idea, why not create a Convolutional Neural Network from scratch, train the game on it and compare it with the keras cnn model. Thats what this notebook is for. \n",
    "\n",
    "\n",
    "### Links\n",
    "- https://en.wikipedia.org/wiki/Convolution"
   ]
  },
  {
   "cell_type": "code",
   "execution_count": null,
   "metadata": {},
   "outputs": [],
   "source": []
  },
  {
   "cell_type": "code",
   "execution_count": null,
   "metadata": {},
   "outputs": [],
   "source": []
  }
 ],
 "metadata": {
  "kernelspec": {
   "display_name": "Python 3",
   "language": "python",
   "name": "python3"
  },
  "language_info": {
   "codemirror_mode": {
    "name": "ipython",
    "version": 3
   },
   "file_extension": ".py",
   "mimetype": "text/x-python",
   "name": "python",
   "nbconvert_exporter": "python",
   "pygments_lexer": "ipython3",
   "version": "3.7.6"
  }
 },
 "nbformat": 4,
 "nbformat_minor": 4
}
